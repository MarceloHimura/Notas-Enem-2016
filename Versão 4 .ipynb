{
 "cells": [
  {
   "cell_type": "code",
   "execution_count": 1,
   "metadata": {},
   "outputs": [],
   "source": [
    "import pandas as pd\n",
    "import numpy as np\n",
    "import matplotlib as plt\n",
    "\n",
    "%matplotlib inline"
   ]
  },
  {
   "cell_type": "code",
   "execution_count": 2,
   "metadata": {},
   "outputs": [],
   "source": [
    "test = pd.read_csv('test.csv')\n",
    "train = pd.read_csv('train.csv')"
   ]
  },
  {
   "cell_type": "code",
   "execution_count": 50,
   "metadata": {},
   "outputs": [],
   "source": [
    "#train.iloc[:,-50:]"
   ]
  },
  {
   "cell_type": "code",
   "execution_count": 11,
   "metadata": {
    "scrolled": true
   },
   "outputs": [],
   "source": [
    "\"\"\"\n",
    "train_col = test.columns\n",
    "tr = train[train_col]\n",
    "tr.columns = map(str.lower, tr.columns)\n",
    "\"\"\"\n",
    "removable = ['NU_ANO','Unnamed: 0','NU_INSCRICAO','NO_MUNICIPIO_RESIDENCIA','SG_UF_RESIDENCIA','NO_MUNICIPIO_NASCIMENTO',\n",
    "             'SG_UF_NASCIMENTO','NO_MUNICIPIO_ESC','SG_UF_ESC','NO_ENTIDADE_CERTIFICACAO','CO_UF_ENTIDADE_CERTIFICACAO',\n",
    "             'SG_UF_ENTIDADE_CERTIFICACAO','NO_MUNICIPIO_PROVA','SG_UF_PROVA','TX_RESPOSTAS_CN','TX_RESPOSTAS_CH',\n",
    "             'TX_RESPOSTAS_LC','TX_RESPOSTAS_MT','TX_GABARITO_CN','TX_GABARITO_CH','TX_GABARITO_LC','TX_GABARITO_MT',\n",
    "             'CO_PROVA_CN', 'CO_PROVA_CH', 'CO_PROVA_LC', 'CO_PROVA_MT'\n",
    "            ]"
   ]
  },
  {
   "cell_type": "code",
   "execution_count": 12,
   "metadata": {
    "scrolled": true
   },
   "outputs": [
    {
     "name": "stderr",
     "output_type": "stream",
     "text": [
      "C:\\Users\\dede-\\Anaconda3\\lib\\site-packages\\ipykernel_launcher.py:1: SettingWithCopyWarning: \n",
      "A value is trying to be set on a copy of a slice from a DataFrame.\n",
      "Try using .loc[row_indexer,col_indexer] = value instead\n",
      "\n",
      "See the caveats in the documentation: https://pandas.pydata.org/pandas-docs/stable/user_guide/indexing.html#returning-a-view-versus-a-copy\n",
      "  \"\"\"Entry point for launching an IPython kernel.\n"
     ]
    }
   ],
   "source": [
    "\"\"\"\n",
    "tr['nu_nota_mt'] = train['NU_NOTA_MT']\n",
    "\"\"\""
   ]
  },
  {
   "cell_type": "code",
   "execution_count": 13,
   "metadata": {
    "scrolled": true
   },
   "outputs": [
    {
     "name": "stderr",
     "output_type": "stream",
     "text": [
      "C:\\Users\\dede-\\Anaconda3\\lib\\site-packages\\pandas\\core\\frame.py:3997: SettingWithCopyWarning: \n",
      "A value is trying to be set on a copy of a slice from a DataFrame\n",
      "\n",
      "See the caveats in the documentation: https://pandas.pydata.org/pandas-docs/stable/user_guide/indexing.html#returning-a-view-versus-a-copy\n",
      "  errors=errors,\n"
     ]
    }
   ],
   "source": [
    "\"\"\"\n",
    "drop = ['nu_inscricao','sg_uf_residencia','tp_ensino','q027','tp_dependencia_adm_esc','co_prova_mt','co_prova_ch',\n",
    "        'co_prova_lc','co_prova_cn']\n",
    "tr.drop(columns=drop,inplace=True)\n",
    "index = tr[tr['tp_presenca_lc'].isin([0,2])].index\n",
    "tr.drop(index=index,inplace=True)\n",
    "\"\"\""
   ]
  },
  {
   "cell_type": "code",
   "execution_count": 31,
   "metadata": {
    "scrolled": true
   },
   "outputs": [
    {
     "name": "stdout",
     "output_type": "stream",
     "text": [
      "<class 'pandas.core.frame.DataFrame'>\n",
      "Int64Index: 10133 entries, 0 to 13729\n",
      "Data columns (total 73 columns):\n",
      " #   Column             Non-Null Count  Dtype  \n",
      "---  ------             --------------  -----  \n",
      " 0   co_uf_residencia   10133 non-null  int64  \n",
      " 1   nu_idade           10133 non-null  int64  \n",
      " 2   tp_cor_raca        10133 non-null  int64  \n",
      " 3   tp_nacionalidade   10133 non-null  int64  \n",
      " 4   tp_st_conclusao    10133 non-null  int64  \n",
      " 5   tp_ano_concluiu    10133 non-null  int64  \n",
      " 6   tp_escola          10133 non-null  int64  \n",
      " 7   in_treineiro       10133 non-null  int64  \n",
      " 8   in_baixa_visao     10133 non-null  int64  \n",
      " 9   in_cegueira        10133 non-null  int64  \n",
      " 10  in_surdez          10133 non-null  int64  \n",
      " 11  in_dislexia        10133 non-null  int64  \n",
      " 12  in_discalculia     10133 non-null  int64  \n",
      " 13  in_sabatista       10133 non-null  int64  \n",
      " 14  in_gestante        10133 non-null  int64  \n",
      " 15  in_idoso           10133 non-null  int64  \n",
      " 16  tp_presenca_cn     10133 non-null  int64  \n",
      " 17  tp_presenca_ch     10133 non-null  int64  \n",
      " 18  tp_presenca_lc     10133 non-null  int64  \n",
      " 19  nu_nota_cn         10133 non-null  float64\n",
      " 20  nu_nota_ch         10133 non-null  float64\n",
      " 21  nu_nota_lc         10133 non-null  float64\n",
      " 22  tp_lingua          10133 non-null  int64  \n",
      " 23  tp_status_redacao  10133 non-null  float64\n",
      " 24  nu_nota_comp1      10133 non-null  float64\n",
      " 25  nu_nota_comp2      10133 non-null  float64\n",
      " 26  nu_nota_comp3      10133 non-null  float64\n",
      " 27  nu_nota_comp4      10133 non-null  float64\n",
      " 28  nu_nota_comp5      10133 non-null  float64\n",
      " 29  nu_nota_redacao    10133 non-null  float64\n",
      " 30  nu_nota_mt         10133 non-null  float64\n",
      " 31  tp_sexo_M          10133 non-null  uint8  \n",
      " 32  q001_B             10133 non-null  uint8  \n",
      " 33  q001_C             10133 non-null  uint8  \n",
      " 34  q001_D             10133 non-null  uint8  \n",
      " 35  q001_E             10133 non-null  uint8  \n",
      " 36  q001_F             10133 non-null  uint8  \n",
      " 37  q001_G             10133 non-null  uint8  \n",
      " 38  q001_H             10133 non-null  uint8  \n",
      " 39  q002_B             10133 non-null  uint8  \n",
      " 40  q002_C             10133 non-null  uint8  \n",
      " 41  q002_D             10133 non-null  uint8  \n",
      " 42  q002_E             10133 non-null  uint8  \n",
      " 43  q002_F             10133 non-null  uint8  \n",
      " 44  q002_G             10133 non-null  uint8  \n",
      " 45  q002_H             10133 non-null  uint8  \n",
      " 46  q006_B             10133 non-null  uint8  \n",
      " 47  q006_C             10133 non-null  uint8  \n",
      " 48  q006_D             10133 non-null  uint8  \n",
      " 49  q006_E             10133 non-null  uint8  \n",
      " 50  q006_F             10133 non-null  uint8  \n",
      " 51  q006_G             10133 non-null  uint8  \n",
      " 52  q006_H             10133 non-null  uint8  \n",
      " 53  q006_I             10133 non-null  uint8  \n",
      " 54  q006_J             10133 non-null  uint8  \n",
      " 55  q006_K             10133 non-null  uint8  \n",
      " 56  q006_L             10133 non-null  uint8  \n",
      " 57  q006_M             10133 non-null  uint8  \n",
      " 58  q006_N             10133 non-null  uint8  \n",
      " 59  q006_O             10133 non-null  uint8  \n",
      " 60  q006_P             10133 non-null  uint8  \n",
      " 61  q006_Q             10133 non-null  uint8  \n",
      " 62  q024_B             10133 non-null  uint8  \n",
      " 63  q024_C             10133 non-null  uint8  \n",
      " 64  q024_D             10133 non-null  uint8  \n",
      " 65  q024_E             10133 non-null  uint8  \n",
      " 66  q025_B             10133 non-null  uint8  \n",
      " 67  q026_B             10133 non-null  uint8  \n",
      " 68  q026_C             10133 non-null  uint8  \n",
      " 69  q047_B             10133 non-null  uint8  \n",
      " 70  q047_C             10133 non-null  uint8  \n",
      " 71  q047_D             10133 non-null  uint8  \n",
      " 72  q047_E             10133 non-null  uint8  \n",
      "dtypes: float64(11), int64(20), uint8(42)\n",
      "memory usage: 3.2 MB\n"
     ]
    }
   ],
   "source": [
    "tr.info()"
   ]
  },
  {
   "cell_type": "code",
   "execution_count": 15,
   "metadata": {},
   "outputs": [
    {
     "data": {
      "text/plain": [
       "5066.5"
      ]
     },
     "execution_count": 15,
     "metadata": {},
     "output_type": "execute_result"
    }
   ],
   "source": [
    "10133/2"
   ]
  },
  {
   "cell_type": "code",
   "execution_count": 17,
   "metadata": {
    "scrolled": true
   },
   "outputs": [
    {
     "data": {
      "text/plain": [
       "241"
      ]
     },
     "execution_count": 17,
     "metadata": {},
     "output_type": "execute_result"
    }
   ],
   "source": [
    "sum(tr['tp_status_redacao'] != 1)"
   ]
  },
  {
   "cell_type": "code",
   "execution_count": 18,
   "metadata": {
    "scrolled": true
   },
   "outputs": [
    {
     "data": {
      "text/plain": [
       "241"
      ]
     },
     "execution_count": 18,
     "metadata": {},
     "output_type": "execute_result"
    }
   ],
   "source": [
    "#pd.DataFrame({'col': [True]}).bool()\n",
    "sum(tr['tp_status_redacao'].isin(list(range(2,10))))"
   ]
  },
  {
   "cell_type": "code",
   "execution_count": 19,
   "metadata": {
    "scrolled": true
   },
   "outputs": [
    {
     "name": "stderr",
     "output_type": "stream",
     "text": [
      "C:\\Users\\dede-\\Anaconda3\\lib\\site-packages\\pandas\\core\\frame.py:4153: SettingWithCopyWarning: \n",
      "A value is trying to be set on a copy of a slice from a DataFrame\n",
      "\n",
      "See the caveats in the documentation: https://pandas.pydata.org/pandas-docs/stable/user_guide/indexing.html#returning-a-view-versus-a-copy\n",
      "  downcast=downcast,\n"
     ]
    }
   ],
   "source": [
    "tr.fillna(0,inplace=True)"
   ]
  },
  {
   "cell_type": "code",
   "execution_count": 21,
   "metadata": {},
   "outputs": [],
   "source": [
    "for c in tr.columns:\n",
    "    if tr[c].isna().sum() > 0:\n",
    "        print(c, tr[c].isna().sum())"
   ]
  },
  {
   "cell_type": "code",
   "execution_count": 29,
   "metadata": {
    "scrolled": true
   },
   "outputs": [],
   "source": [
    "tr = pd.get_dummies(tr,drop_first=True)"
   ]
  },
  {
   "cell_type": "markdown",
   "metadata": {},
   "source": [
    "Regressaão pá e bola"
   ]
  },
  {
   "cell_type": "code",
   "execution_count": 20,
   "metadata": {},
   "outputs": [],
   "source": [
    "from sklearn.linear_model  import LinearRegression \n",
    "from sklearn.model_selection import train_test_split\n",
    "from sklearn import metrics"
   ]
  },
  {
   "cell_type": "code",
   "execution_count": 32,
   "metadata": {},
   "outputs": [],
   "source": [
    "x = tr['nu_nota_mt']\n",
    "y = tr.drop('nu_nota_mt',axis = 1)\n",
    "x_train, x_test, y_train, y_test = train_test_split(x,y)"
   ]
  },
  {
   "cell_type": "code",
   "execution_count": 51,
   "metadata": {
    "scrolled": true
   },
   "outputs": [],
   "source": [
    "lr = LinearRegression(fit_intercept=True)\n",
    "lr.fit(y_train, x_train)\n",
    "simulation = lr.predict(y_test)"
   ]
  },
  {
   "cell_type": "code",
   "execution_count": 52,
   "metadata": {},
   "outputs": [
    {
     "name": "stdout",
     "output_type": "stream",
     "text": [
      "Mean Absolute Error: 57.90501535589261\n",
      "Mean Squared Error: 5467.589406298399\n",
      "Root Mean Squared Error: 73.94314982673107\n"
     ]
    }
   ],
   "source": [
    "print('Mean Absolute Error:', metrics.mean_absolute_error(x_test, simulation))  \n",
    "print('Mean Squared Error:', metrics.mean_squared_error(x_test, simulation))  \n",
    "print('Root Mean Squared Error:', np.sqrt(metrics.mean_squared_error(x_test, simulation)))"
   ]
  },
  {
   "cell_type": "markdown",
   "metadata": {},
   "source": [
    "<b>\n",
    "Mean Absolute Error: 47.386227079296624<br>\n",
    "Mean Squared Error: 4184.689694698922<br>\n",
    "Root Mean Squared Error: 64.68917757012314<br>\n",
    "</b>\n"
   ]
  },
  {
   "cell_type": "code",
   "execution_count": null,
   "metadata": {},
   "outputs": [],
   "source": []
  }
 ],
 "metadata": {
  "kernelspec": {
   "display_name": "Python 3 (ipykernel)",
   "language": "python",
   "name": "python3"
  },
  "language_info": {
   "codemirror_mode": {
    "name": "ipython",
    "version": 3
   },
   "file_extension": ".py",
   "mimetype": "text/x-python",
   "name": "python",
   "nbconvert_exporter": "python",
   "pygments_lexer": "ipython3",
   "version": "3.9.7"
  }
 },
 "nbformat": 4,
 "nbformat_minor": 4
}
